{
 "cells": [
  {
   "cell_type": "markdown",
   "id": "6b992166",
   "metadata": {},
   "source": [
    "write a sorting function without using the list.sort function"
   ]
  },
  {
   "cell_type": "code",
   "execution_count": 1,
   "id": "64ee77f4",
   "metadata": {},
   "outputs": [
    {
     "name": "stdout",
     "output_type": "stream",
     "text": [
      "[122, 78, 64, 55, 44, 34, 25, 24, 23, 22, 12, 11, 3, 2, 1]\n"
     ]
    }
   ],
   "source": [
    "l = [24,55,78,64,25,12,22,11,1,2,44,3,122,23,34]\n",
    "nl = []\n",
    "while l:\n",
    "    minimum = l[0]#arbitary number in list\n",
    "    for x in l:\n",
    "        if x > minimum:\n",
    "            minimum = x\n",
    "    nl.append(minimum)\n",
    "    l.remove(minimum)\n",
    "\n",
    "print(nl)\n",
    "    "
   ]
  },
  {
   "cell_type": "code",
   "execution_count": null,
   "id": "f0f6dc43",
   "metadata": {},
   "outputs": [],
   "source": []
  }
 ],
 "metadata": {
  "kernelspec": {
   "display_name": "Python 3 (ipykernel)",
   "language": "python",
   "name": "python3"
  },
  "language_info": {
   "codemirror_mode": {
    "name": "ipython",
    "version": 3
   },
   "file_extension": ".py",
   "mimetype": "text/x-python",
   "name": "python",
   "nbconvert_exporter": "python",
   "pygments_lexer": "ipython3",
   "version": "3.9.7"
  }
 },
 "nbformat": 4,
 "nbformat_minor": 5
}
